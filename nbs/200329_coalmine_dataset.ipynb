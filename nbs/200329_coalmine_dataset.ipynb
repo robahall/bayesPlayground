{
 "cells": [
  {
   "cell_type": "code",
   "execution_count": 1,
   "outputs": [],
   "source": [
    "%load_ext autoreload\n",
    "%autoreload 2"
   ],
   "metadata": {
    "collapsed": false,
    "pycharm": {
     "name": "#%%\n",
     "is_executing": false
    }
   }
  },
  {
   "cell_type": "code",
   "execution_count": 24,
   "outputs": [],
   "source": [
    "import sys\n",
    "sys.path.append('..')\n",
    "\n",
    "import src.data.data_cleaning as dc\n",
    "\n",
    "import numpy as np\n",
    "import pandas as pd\n",
    "import matplotlib.pyplot as plt\n",
    "import seaborn as sns\n",
    "# matplotlib inline\n",
    "import pymc3 as pm"
   ],
   "metadata": {
    "collapsed": false,
    "pycharm": {
     "name": "#%%\n",
     "is_executing": false
    }
   }
  },
  {
   "cell_type": "code",
   "source": [
    "raw_data = pd.read_csv('../data/external/NIOSH_Coal_Mining_Disasters_1839_to_2019.csv')\n",
    "raw_data.head()"
   ],
   "metadata": {
    "collapsed": false,
    "pycharm": {
     "name": "#%%\n",
     "is_executing": false
    }
   },
   "execution_count": 25,
   "outputs": [
    {
     "data": {
      "text/plain": "         Date               Mine Name        City State   Killed Product  \\\n0  03/18/1839             Black Heath    Richmond     VA      53    Coal   \n1  06/15/1844             Black Heath    Richmond     VA      11    Coal   \n2  01/12/1846                   No. 1  Carbondale     PA      14    Coal   \n3  02/19/1847                 Spencer  Pottsville     PA       7    Coal   \n4  11/30/1850  Cox's Pit, Clover Hill  Winterpock     VA       7    Coal   \n\n        Type  \n0  Explosion  \n1  Explosion  \n2    Cave-in  \n3  Explosion  \n4  Explosion  ",
      "text/html": "<div>\n<style scoped>\n    .dataframe tbody tr th:only-of-type {\n        vertical-align: middle;\n    }\n\n    .dataframe tbody tr th {\n        vertical-align: top;\n    }\n\n    .dataframe thead th {\n        text-align: right;\n    }\n</style>\n<table border=\"1\" class=\"dataframe\">\n  <thead>\n    <tr style=\"text-align: right;\">\n      <th></th>\n      <th>Date</th>\n      <th>Mine Name</th>\n      <th>City</th>\n      <th>State</th>\n      <th>Killed</th>\n      <th>Product</th>\n      <th>Type</th>\n    </tr>\n  </thead>\n  <tbody>\n    <tr>\n      <th>0</th>\n      <td>03/18/1839</td>\n      <td>Black Heath</td>\n      <td>Richmond</td>\n      <td>VA</td>\n      <td>53</td>\n      <td>Coal</td>\n      <td>Explosion</td>\n    </tr>\n    <tr>\n      <th>1</th>\n      <td>06/15/1844</td>\n      <td>Black Heath</td>\n      <td>Richmond</td>\n      <td>VA</td>\n      <td>11</td>\n      <td>Coal</td>\n      <td>Explosion</td>\n    </tr>\n    <tr>\n      <th>2</th>\n      <td>01/12/1846</td>\n      <td>No. 1</td>\n      <td>Carbondale</td>\n      <td>PA</td>\n      <td>14</td>\n      <td>Coal</td>\n      <td>Cave-in</td>\n    </tr>\n    <tr>\n      <th>3</th>\n      <td>02/19/1847</td>\n      <td>Spencer</td>\n      <td>Pottsville</td>\n      <td>PA</td>\n      <td>7</td>\n      <td>Coal</td>\n      <td>Explosion</td>\n    </tr>\n    <tr>\n      <th>4</th>\n      <td>11/30/1850</td>\n      <td>Cox's Pit, Clover Hill</td>\n      <td>Winterpock</td>\n      <td>VA</td>\n      <td>7</td>\n      <td>Coal</td>\n      <td>Explosion</td>\n    </tr>\n  </tbody>\n</table>\n</div>"
     },
     "metadata": {},
     "output_type": "execute_result",
     "execution_count": 25
    }
   ]
  },
  {
   "cell_type": "code",
   "source": [
    "raw_data = dc.splits_datetime(raw_data)"
   ],
   "metadata": {
    "collapsed": false,
    "pycharm": {
     "name": "#%%\n",
     "is_executing": false
    }
   },
   "execution_count": 26,
   "outputs": []
  },
  {
   "cell_type": "code",
   "execution_count": 32,
   "outputs": [
    {
     "data": {
      "text/plain": "Date         datetime64[ns]\nMine Name            object\nCity                 object\nState                object\nKilled                int64\nProduct              object\nType                 object\nYear                  int64\ndtype: object"
     },
     "metadata": {},
     "output_type": "execute_result",
     "execution_count": 32
    }
   ],
   "source": [
    "raw_data.dtypes"
   ],
   "metadata": {
    "collapsed": false,
    "pycharm": {
     "name": "#%%\n",
     "is_executing": false
    }
   }
  },
  {
   "cell_type": "code",
   "execution_count": 30,
   "outputs": [
    {
     "data": {
      "text/plain": "<Figure size 432x288 with 1 Axes>",
      "image/png": "[encoded data removed]"
     },
     "metadata": {
      "needs_background": "light"
     },
     "output_type": "display_data"
    }
   ],
   "source": [
    "ax = sns.barplot(x = 'Year', y = 'Killed', data = raw_data)\n",
    "ax.set_xticklabels(ax.get_xticklabels(), rotation=45)\n",
    "plt.show()"
   ],
   "metadata": {
    "collapsed": false,
    "pycharm": {
     "name": "#%%\n",
     "is_executing": false
    }
   }
  },
  {
   "cell_type": "code",
   "execution_count": null,
   "outputs": [],
   "source": [
    "\n"
   ],
   "metadata": {
    "collapsed": false,
    "pycharm": {
     "name": "#%%\n"
    }
   }
  }
 ],
 "metadata": {
  "kernelspec": {
   "display_name": "Python 3",
   "language": "python",
   "name": "python3"
  },
  "language_info": {
   "codemirror_mode": {
    "name": "ipython",
    "version": 2
   },
   "file_extension": ".py",
   "mimetype": "text/x-python",
   "name": "python",
   "nbconvert_exporter": "python",
   "pygments_lexer": "ipython2",
   "version": "2.7.6"
  },
  "pycharm": {
   "stem_cell": {
    "cell_type": "raw",
    "source": [],
    "metadata": {
     "collapsed": false
    }
   }
  }
 },
 "nbformat": 4,
 "nbformat_minor": 0
}