{
 "cells": [
  {
   "cell_type": "markdown",
   "metadata": {},
   "source": [
    "## Gaussian Mixture Model\n",
    "\n",
    "Goal is to build a base model with bayesian GLM."
   ]
  },
  {
   "cell_type": "code",
   "execution_count": 12,
   "metadata": {
    "pycharm": {
     "is_executing": false
    }
   },
   "outputs": [],
   "source": [
    "import numpy as np\n",
    "import pandas as pd\n",
    "\n",
    "from sklearn.datasets import load_wine\n",
    "\n",
    "from sklearn.model_selection import train_test_split\n",
    "from sklearn.preprocessing import StandardScaler\n",
    "''\n",
    "from sklearn.pipeline import Pipeline\n",
    "from sklearn.model_selection import GridSearchCV\n",
    "\n",
    "\n",
    "from sklearn.mixture import GaussianMixture\n",
    "from sklearn.dummy import DummyClassifier\n",
    "\n",
    "\n",
    "from sklearn.metrics import confusion_matrix, f1_score\n",
    "\n",
    "%matplotlib inline\n",
    "import matplotlib.pyplot as plt"
   ]
  },
  {
   "cell_type": "code",
   "execution_count": 24,
   "outputs": [],
   "source": [
    "def plot_confusion_matrix(y_true, y_pred, classes,\n",
    "                          normalize=False,\n",
    "                          title=None,\n",
    "                          cmap=plt.cm.Blues):\n",
    "    \"\"\"\n",
    "    This function prints and plots the confusion matrix.\n",
    "    Normalization can be applied by setting `normalize=True`.\n",
    "    \n",
    "    Based on: https://scikit-learn.org/stable/auto_examples/model_selection/plot_confusion_matrix.html#sphx-glr-auto-examples-model-selection-plot-confusion-matrix-py\n",
    "    \"\"\"\n",
    "    if not title:\n",
    "        if normalize:\n",
    "            title = 'Normalized confusion matrix'\n",
    "        else:\n",
    "            title = 'Confusion matrix, without normalization'\n",
    "            \n",
    "\n",
    "    f1 = f1_score(y_true, y_pred, average='weighted')         \n",
    "    print(f'Weighted F1 Score: {f1}')\n",
    "    # Compute confusion matrix\n",
    "    cm = confusion_matrix(y_true, y_pred)\n",
    "    # Only use the labels that appear in the data\n",
    "    if normalize:\n",
    "        cm = cm.astype('float') / cm.sum(axis=1)[:, np.newaxis]\n",
    "        print(\"Normalized confusion matrix\")\n",
    "    else:\n",
    "        print('Confusion matrix, without normalization')\n",
    "\n",
    "    print(cm)\n",
    "    \n",
    "\n",
    "    fig, ax = plt.subplots()\n",
    "    im = ax.imshow(cm, interpolation='nearest', cmap=cmap)\n",
    "    ax.figure.colorbar(im, ax=ax)\n",
    "    # We want to show all ticks...\n",
    "    ax.set(xticks=np.arange(cm.shape[1]),\n",
    "           yticks=np.arange(cm.shape[0]),\n",
    "           # ... and label them with the respective list entries\n",
    "           xticklabels=classes, yticklabels=classes,\n",
    "           title=title,\n",
    "           ylabel='True label',\n",
    "           xlabel='Predicted label')\n",
    "\n",
    "    # Rotate the tick labels and set their alignment.\n",
    "    plt.setp(ax.get_xticklabels(), rotation=45, ha=\"right\",\n",
    "             rotation_mode=\"anchor\")\n",
    "\n",
    "    # Loop over data dimensions and create text annotations.\n",
    "    fmt = '.2f' if normalize else 'd'\n",
    "    thresh = cm.max() / 2.\n",
    "    for i in range(cm.shape[0]):\n",
    "        for j in range(cm.shape[1]):\n",
    "            ax.text(j, i, format(cm[i, j], fmt),\n",
    "                    ha=\"center\", va=\"center\",\n",
    "                    color=\"white\" if cm[i, j] > thresh else \"black\")\n",
    "    fig.tight_layout()\n",
    "    return ax"
   ],
   "metadata": {
    "collapsed": false,
    "pycharm": {
     "name": "#%%\n",
     "is_executing": false
    }
   }
  },
  {
   "cell_type": "code",
   "execution_count": 13,
   "metadata": {
    "pycharm": {
     "is_executing": false
    }
   },
   "outputs": [],
   "source": [
    "wine_bunch = load_wine()"
   ]
  },
  {
   "cell_type": "code",
   "execution_count": 14,
   "metadata": {
    "pycharm": {
     "is_executing": false
    }
   },
   "outputs": [],
   "source": [
    "X = wine_bunch.data\n",
    "y = wine_bunch.target"
   ]
  },
  {
   "cell_type": "code",
   "execution_count": 15,
   "metadata": {
    "pycharm": {
     "is_executing": false
    }
   },
   "outputs": [],
   "source": [
    "X_train, X_test, y_train, y_test = train_test_split(X,\n",
    "                                                    y,\n",
    "                                                    test_size=0.2, \n",
    "                                                    random_state=0)"
   ]
  },
  {
   "cell_type": "code",
   "execution_count": 16,
   "metadata": {
    "pycharm": {
     "is_executing": false
    }
   },
   "outputs": [
    {
     "data": {
      "text/plain": "array([0.31690141, 0.38732394, 0.29577465])"
     },
     "metadata": {},
     "output_type": "execute_result",
     "execution_count": 16
    }
   ],
   "source": [
    "value, counts = np.unique(y_train, return_counts=True)\n",
    "freq = counts/len(y_train)\n",
    "freq"
   ]
  },
  {
   "cell_type": "code",
   "execution_count": 17,
   "metadata": {
    "pycharm": {
     "is_executing": false
    }
   },
   "outputs": [
    {
     "data": {
      "text/plain": "array([0.38888889, 0.44444444, 0.16666667])"
     },
     "metadata": {},
     "output_type": "execute_result",
     "execution_count": 17
    }
   ],
   "source": [
    "value, counts = np.unique(y_test, return_counts=True)\n",
    "freq = counts/len(y_test)\n",
    "freq"
   ]
  },
  {
   "cell_type": "code",
   "execution_count": 18,
   "metadata": {
    "pycharm": {
     "is_executing": false
    }
   },
   "outputs": [
    {
     "data": {
      "text/plain": "['alcohol',\n 'malic_acid',\n 'ash',\n 'alcalinity_of_ash',\n 'magnesium',\n 'total_phenols',\n 'flavanoids',\n 'nonflavanoid_phenols',\n 'proanthocyanins',\n 'color_intensity',\n 'hue',\n 'od280/od315_of_diluted_wines',\n 'proline']"
     },
     "metadata": {},
     "output_type": "execute_result",
     "execution_count": 18
    }
   ],
   "source": [
    "wine_bunch.feature_names"
   ]
  },
  {
   "cell_type": "markdown",
   "metadata": {},
   "source": [
    "## Build Dummy"
   ]
  },
  {
   "cell_type": "code",
   "execution_count": 19,
   "metadata": {
    "pycharm": {
     "is_executing": false
    }
   },
   "outputs": [],
   "source": [
    "clf = DummyClassifier(strategy='stratified', random_state=0)\n",
    "clf.fit(X_train, y_train)\n",
    "y_pred = clf.predict(X_test)"
   ]
  },
  {
   "cell_type": "code",
   "execution_count": 25,
   "metadata": {
    "pycharm": {
     "is_executing": false
    }
   },
   "outputs": [
    {
     "name": "stdout",
     "text": [
      "Weighted F1 Score: 0.27168091168091174\n",
      "Confusion matrix, without normalization\n",
      "[[2 4 8]\n",
      " [2 5 9]\n",
      " [3 1 2]]\n"
     ],
     "output_type": "stream"
    },
    {
     "data": {
      "text/plain": "<matplotlib.axes._subplots.AxesSubplot at 0x7f99ab263050>"
     },
     "metadata": {},
     "output_type": "execute_result",
     "execution_count": 25
    },
    {
     "data": {
      "text/plain": "<Figure size 432x288 with 2 Axes>",
      "image/png": "[encoded data removed]"
     },
     "metadata": {
      "needs_background": "light"
     },
     "output_type": "display_data"
    }
   ],
   "source": [
    "plot_confusion_matrix(y_test, y_pred, classes= wine_bunch.target_names)"
   ]
  },
  {
   "cell_type": "markdown",
   "metadata": {},
   "source": [
    "## Build GMM"
   ]
  },
  {
   "cell_type": "code",
   "execution_count": 29,
   "metadata": {
    "pycharm": {
     "is_executing": false
    }
   },
   "outputs": [],
   "source": [
    "pipeline = Pipeline([('n_dist', StandardScaler()),\n",
    "                     ('clf', GaussianMixture())\n",
    "                    ])\n",
    "\n",
    "parm_space = {'clf__n_components':[2,3,4,5], \n",
    "              'clf__covariance_type':['full', 'tied', 'diag', 'spherical']}"
   ]
  },
  {
   "cell_type": "code",
   "execution_count": 30,
   "metadata": {
    "pycharm": {
     "is_executing": false
    }
   },
   "outputs": [],
   "source": [
    "models = GridSearchCV(pipeline, parm_space, cv=5)"
   ]
  },
  {
   "cell_type": "code",
   "execution_count": 31,
   "metadata": {
    "pycharm": {
     "is_executing": false
    }
   },
   "outputs": [
    {
     "name": "stderr",
     "text": [
      "/home/rob/anaconda3/envs/bayesPG/lib/python3.7/site-packages/sklearn/model_selection/_search.py:814: DeprecationWarning: The default of the `iid` parameter will change from True to False in version 0.22 and will be removed in 0.24. This will change numeric results when test-set sizes are unequal.\n",
      "  DeprecationWarning)\n"
     ],
     "output_type": "stream"
    },
    {
     "data": {
      "text/plain": "GridSearchCV(cv=5, error_score='raise-deprecating',\n             estimator=Pipeline(memory=None,\n                                steps=[('n_dist',\n                                        StandardScaler(copy=True,\n                                                       with_mean=True,\n                                                       with_std=True)),\n                                       ('clf',\n                                        GaussianMixture(covariance_type='full',\n                                                        init_params='kmeans',\n                                                        max_iter=100,\n                                                        means_init=None,\n                                                        n_components=1,\n                                                        n_init=1,\n                                                        precisions_init=None,\n                                                        random_state=None,\n                                                        reg_covar=1e-06,\n                                                        tol=0.001, verbose=0,\n                                                        verbose_interval=10,\n                                                        warm_start=False,\n                                                        weights_init=None))],\n                                verbose=False),\n             iid='warn', n_jobs=None,\n             param_grid={'clf__covariance_type': ['full', 'tied', 'diag',\n                                                  'spherical'],\n                         'clf__n_components': [2, 3, 4, 5]},\n             pre_dispatch='2*n_jobs', refit=True, return_train_score=False,\n             scoring=None, verbose=0)"
     },
     "metadata": {},
     "output_type": "execute_result",
     "execution_count": 31
    }
   ],
   "source": [
    "models.fit(X_train, y_train)"
   ]
  },
  {
   "cell_type": "code",
   "execution_count": 32,
   "metadata": {
    "pycharm": {
     "is_executing": false
    }
   },
   "outputs": [
    {
     "data": {
      "text/plain": "{'clf__covariance_type': 'diag', 'clf__n_components': 3}"
     },
     "metadata": {},
     "output_type": "execute_result",
     "execution_count": 32
    }
   ],
   "source": [
    "models.best_params_"
   ]
  },
  {
   "cell_type": "code",
   "execution_count": 33,
   "metadata": {
    "pycharm": {
     "is_executing": false
    }
   },
   "outputs": [
    {
     "data": {
      "text/plain": "{'mean_fit_time': array([0.08991971, 0.02331891, 0.01236134, 0.01121626, 0.00798054,\n        0.00830421, 0.01250701, 0.01324058, 0.00790839, 0.00584278,\n        0.00728741, 0.00673532, 0.0055768 , 0.00645723, 0.00908585,\n        0.00865154]),\n 'std_fit_time': array([0.11455436, 0.01368023, 0.00141173, 0.00302168, 0.00218918,\n        0.00171521, 0.00253463, 0.00101032, 0.00154562, 0.00039593,\n        0.00141451, 0.00085208, 0.00128508, 0.0013064 , 0.00184576,\n        0.00088203]),\n 'mean_score_time': array([0.00152397, 0.00109797, 0.00061564, 0.00054288, 0.0003933 ,\n        0.00042171, 0.00045342, 0.00049248, 0.00035534, 0.00035515,\n        0.00036039, 0.00037022, 0.00036721, 0.00039163, 0.00037999,\n        0.00042763]),\n 'std_score_time': array([1.61030881e-04, 4.93106627e-04, 2.52423918e-05, 3.29162732e-05,\n        5.67135611e-06, 4.62409131e-06, 7.15001379e-06, 2.24699107e-05,\n        7.58695721e-06, 1.76880236e-06, 3.43388975e-06, 3.11371378e-06,\n        2.66090516e-06, 1.55024153e-05, 5.32138305e-06, 5.18262109e-05]),\n 'param_clf__covariance_type': masked_array(data=['full', 'full', 'full', 'full', 'tied', 'tied', 'tied',\n                    'tied', 'diag', 'diag', 'diag', 'diag', 'spherical',\n                    'spherical', 'spherical', 'spherical'],\n              mask=[False, False, False, False, False, False, False, False,\n                    False, False, False, False, False, False, False, False],\n        fill_value='?',\n             dtype=object),\n 'param_clf__n_components': masked_array(data=[2, 3, 4, 5, 2, 3, 4, 5, 2, 3, 4, 5, 2, 3, 4, 5],\n              mask=[False, False, False, False, False, False, False, False,\n                    False, False, False, False, False, False, False, False],\n        fill_value='?',\n             dtype=object),\n 'params': [{'clf__covariance_type': 'full', 'clf__n_components': 2},\n  {'clf__covariance_type': 'full', 'clf__n_components': 3},\n  {'clf__covariance_type': 'full', 'clf__n_components': 4},\n  {'clf__covariance_type': 'full', 'clf__n_components': 5},\n  {'clf__covariance_type': 'tied', 'clf__n_components': 2},\n  {'clf__covariance_type': 'tied', 'clf__n_components': 3},\n  {'clf__covariance_type': 'tied', 'clf__n_components': 4},\n  {'clf__covariance_type': 'tied', 'clf__n_components': 5},\n  {'clf__covariance_type': 'diag', 'clf__n_components': 2},\n  {'clf__covariance_type': 'diag', 'clf__n_components': 3},\n  {'clf__covariance_type': 'diag', 'clf__n_components': 4},\n  {'clf__covariance_type': 'diag', 'clf__n_components': 5},\n  {'clf__covariance_type': 'spherical', 'clf__n_components': 2},\n  {'clf__covariance_type': 'spherical', 'clf__n_components': 3},\n  {'clf__covariance_type': 'spherical', 'clf__n_components': 4},\n  {'clf__covariance_type': 'spherical', 'clf__n_components': 5}],\n 'split0_test_score': array([-13.6377509 , -13.2859681 , -15.33758007, -16.30765572,\n        -14.42161117, -13.9373974 , -13.99196624, -13.78169002,\n        -15.50276946, -13.89534612, -13.76627528, -13.66305219,\n        -16.48929154, -14.822242  , -14.67151795, -14.82268115]),\n 'split1_test_score': array([-20.69002215, -24.04322154, -23.85616615, -32.30879338,\n        -20.4405528 , -20.34728813, -20.06639748, -20.79382228,\n        -19.86408656, -18.91001398, -18.91826293, -20.02954547,\n        -21.309288  , -20.84331149, -20.74005573, -21.24405303]),\n 'split2_test_score': array([-15.65875597, -16.53427593, -19.16681625, -18.59147503,\n        -15.59932669, -15.042873  , -15.02616529, -15.00393222,\n        -17.12544887, -15.21576584, -15.37742124, -15.42239459,\n        -17.88499151, -15.69779042, -15.66413498, -15.89150823]),\n 'split3_test_score': array([-14.38739315, -14.00958713, -17.27213592, -15.70412467,\n        -14.44824623, -14.16877613, -14.02956358, -14.2797294 ,\n        -14.91300777, -13.64431977, -13.66433044, -14.07308783,\n        -15.77446085, -14.39432045, -14.62678613, -14.54913172]),\n 'split4_test_score': array([-15.35268373, -15.32858726, -16.83898257, -17.38034771,\n        -14.81441603, -14.70477207, -14.94589036, -14.93845678,\n        -16.36425452, -14.42048649, -14.54730459, -13.90695071,\n        -17.12032459, -15.09653929, -14.82473363, -15.0885315 ]),\n 'mean_test_score': array([-15.96248407, -16.6688388 , -18.50986488, -20.11833487,\n        -15.9657637 , -15.66137799, -15.63195695, -15.78105051,\n        -16.76700519, -15.23388353, -15.27003651, -15.43910887,\n        -17.73234198, -16.19424828, -16.1279857 , -16.34332459]),\n 'std_test_score': array([2.49975568, 3.89812409, 2.97157292, 6.25260262, 2.30613515,\n        2.40551029, 2.28838237, 2.57907882, 1.73793597, 1.93766462,\n        1.94772417, 2.40386209, 1.93980622, 2.39239173, 2.36623017,\n        2.52242476]),\n 'rank_test_score': array([ 7, 12, 15, 16,  8,  5,  4,  6, 13,  1,  2,  3, 14, 10,  9, 11],\n       dtype=int32)}"
     },
     "metadata": {},
     "output_type": "execute_result",
     "execution_count": 33
    }
   ],
   "source": [
    "models.cv_results_"
   ]
  },
  {
   "cell_type": "code",
   "execution_count": 34,
   "metadata": {
    "pycharm": {
     "is_executing": false
    }
   },
   "outputs": [],
   "source": [
    "best_estimator = models.best_estimator_"
   ]
  },
  {
   "cell_type": "code",
   "execution_count": 35,
   "metadata": {
    "pycharm": {
     "is_executing": false
    }
   },
   "outputs": [],
   "source": [
    "y_pred = best_estimator.predict(X_test)"
   ]
  },
  {
   "cell_type": "code",
   "execution_count": 36,
   "metadata": {
    "pycharm": {
     "is_executing": false
    }
   },
   "outputs": [
    {
     "name": "stdout",
     "text": [
      "Weighted F1 Score: 0.2094017094017094\n",
      "Confusion matrix, without normalization\n",
      "[[ 0 14  0]\n",
      " [13  2  1]\n",
      " [ 0  0  6]]\n"
     ],
     "output_type": "stream"
    },
    {
     "data": {
      "text/plain": "<matplotlib.axes._subplots.AxesSubplot at 0x7f99aae15d90>"
     },
     "metadata": {},
     "output_type": "execute_result",
     "execution_count": 36
    },
    {
     "data": {
      "text/plain": "<Figure size 432x288 with 2 Axes>",
      "image/png": "[encoded data removed]"
     },
     "metadata": {
      "needs_background": "light"
     },
     "output_type": "display_data"
    }
   ],
   "source": [
    "plot_confusion_matrix(y_test, y_pred, classes= wine_bunch.target_names)"
   ]
  },
  {
   "cell_type": "code",
   "execution_count": null,
   "metadata": {
    "pycharm": {
     "is_executing": false
    }
   },
   "outputs": [],
   "source": []
  },
  {
   "cell_type": "code",
   "execution_count": null,
   "metadata": {
    "pycharm": {
     "is_executing": false
    }
   },
   "outputs": [],
   "source": []
  }
 ],
 "metadata": {
  "kernelspec": {
   "display_name": "Python 3",
   "language": "python",
   "name": "python3"
  },
  "language_info": {
   "codemirror_mode": {
    "name": "ipython",
    "version": 3
   },
   "file_extension": ".py",
   "mimetype": "text/x-python",
   "name": "python",
   "nbconvert_exporter": "python",
   "pygments_lexer": "ipython3",
   "version": "3.7.4"
  },
  "pycharm": {
   "stem_cell": {
    "cell_type": "raw",
    "source": [],
    "metadata": {
     "collapsed": false
    }
   }
  }
 },
 "nbformat": 4,
 "nbformat_minor": 2
}