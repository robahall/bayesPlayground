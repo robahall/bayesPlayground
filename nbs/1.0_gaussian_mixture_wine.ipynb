{
 "cells": [
  {
   "cell_type": "markdown",
   "metadata": {},
   "source": [
    "## Gaussian Mixture Model\n",
    "\n",
    "Goal is to build a base model with bayesian GLM."
   ]
  },
  {
   "cell_type": "code",
   "execution_count": 46,
   "metadata": {
    "pycharm": {
     "is_executing": false
    }
   },
   "outputs": [],
   "source": [
    "import numpy as np\n",
    "import pandas as pd\n",
    "\n",
    "from sklearn.datasets import load_wine\n",
    "\n",
    "from sklearn.model_selection import train_test_split\n",
    "from sklearn.preprocessing import StandardScaler\n",
    "''\n",
    "from sklearn.pipeline import Pipeline\n",
    "from sklearn.model_selection import GridSearchCV\n",
    "\n",
    "\n",
    "from sklearn.mixture import GaussianMixture\n",
    "from sklearn.dummy import DummyClassifier\n",
    "from sklearn.linear_model import LogisticRegression\n",
    "\n",
    "\n",
    "from sklearn.metrics import confusion_matrix, f1_score\n",
    "\n",
    "%matplotlib inline\n",
    "import matplotlib.pyplot as plt"
   ]
  },
  {
   "cell_type": "code",
   "execution_count": 24,
   "outputs": [],
   "source": [
    "def plot_confusion_matrix(y_true, y_pred, classes,\n",
    "                          normalize=False,\n",
    "                          title=None,\n",
    "                          cmap=plt.cm.Blues):\n",
    "    \"\"\"\n",
    "    This function prints and plots the confusion matrix.\n",
    "    Normalization can be applied by setting `normalize=True`.\n",
    "    \n",
    "    Based on: https://scikit-learn.org/stable/auto_examples/model_selection/plot_confusion_matrix.html#sphx-glr-auto-examples-model-selection-plot-confusion-matrix-py\n",
    "    \"\"\"\n",
    "    if not title:\n",
    "        if normalize:\n",
    "            title = 'Normalized confusion matrix'\n",
    "        else:\n",
    "            title = 'Confusion matrix, without normalization'\n",
    "            \n",
    "\n",
    "    f1 = f1_score(y_true, y_pred, average='weighted')         \n",
    "    print(f'Weighted F1 Score: {f1}')\n",
    "    # Compute confusion matrix\n",
    "    cm = confusion_matrix(y_true, y_pred)\n",
    "    # Only use the labels that appear in the data\n",
    "    if normalize:\n",
    "        cm = cm.astype('float') / cm.sum(axis=1)[:, np.newaxis]\n",
    "        print(\"Normalized confusion matrix\")\n",
    "    else:\n",
    "        print('Confusion matrix, without normalization')\n",
    "\n",
    "    print(cm)\n",
    "    \n",
    "\n",
    "    fig, ax = plt.subplots()\n",
    "    im = ax.imshow(cm, interpolation='nearest', cmap=cmap)\n",
    "    ax.figure.colorbar(im, ax=ax)\n",
    "    # We want to show all ticks...\n",
    "    ax.set(xticks=np.arange(cm.shape[1]),\n",
    "           yticks=np.arange(cm.shape[0]),\n",
    "           # ... and label them with the respective list entries\n",
    "           xticklabels=classes, yticklabels=classes,\n",
    "           title=title,\n",
    "           ylabel='True label',\n",
    "           xlabel='Predicted label')\n",
    "\n",
    "    # Rotate the tick labels and set their alignment.\n",
    "    plt.setp(ax.get_xticklabels(), rotation=45, ha=\"right\",\n",
    "             rotation_mode=\"anchor\")\n",
    "\n",
    "    # Loop over data dimensions and create text annotations.\n",
    "    fmt = '.2f' if normalize else 'd'\n",
    "    thresh = cm.max() / 2.\n",
    "    for i in range(cm.shape[0]):\n",
    "        for j in range(cm.shape[1]):\n",
    "            ax.text(j, i, format(cm[i, j], fmt),\n",
    "                    ha=\"center\", va=\"center\",\n",
    "                    color=\"white\" if cm[i, j] > thresh else \"black\")\n",
    "    fig.tight_layout()\n",
    "    return ax"
   ],
   "metadata": {
    "collapsed": false,
    "pycharm": {
     "name": "#%%\n",
     "is_executing": false
    }
   }
  },
  {
   "cell_type": "code",
   "execution_count": 13,
   "metadata": {
    "pycharm": {
     "is_executing": false
    }
   },
   "outputs": [],
   "source": [
    "wine_bunch = load_wine()"
   ]
  },
  {
   "cell_type": "code",
   "execution_count": 14,
   "metadata": {
    "pycharm": {
     "is_executing": false
    }
   },
   "outputs": [],
   "source": [
    "X = wine_bunch.data\n",
    "y = wine_bunch.target"
   ]
  },
  {
   "cell_type": "code",
   "execution_count": 15,
   "metadata": {
    "pycharm": {
     "is_executing": false
    }
   },
   "outputs": [],
   "source": [
    "X_train, X_test, y_train, y_test = train_test_split(X,\n",
    "                                                    y,\n",
    "                                                    test_size=0.2, \n",
    "                                                    random_state=0)"
   ]
  },
  {
   "cell_type": "code",
   "execution_count": 16,
   "metadata": {
    "pycharm": {
     "is_executing": false
    }
   },
   "outputs": [
    {
     "data": {
      "text/plain": "array([0.31690141, 0.38732394, 0.29577465])"
     },
     "metadata": {},
     "output_type": "execute_result",
     "execution_count": 16
    }
   ],
   "source": [
    "value, counts = np.unique(y_train, return_counts=True)\n",
    "freq = counts/len(y_train)\n",
    "freq"
   ]
  },
  {
   "cell_type": "code",
   "execution_count": 17,
   "metadata": {
    "pycharm": {
     "is_executing": false
    }
   },
   "outputs": [
    {
     "data": {
      "text/plain": "array([0.38888889, 0.44444444, 0.16666667])"
     },
     "metadata": {},
     "output_type": "execute_result",
     "execution_count": 17
    }
   ],
   "source": [
    "value, counts = np.unique(y_test, return_counts=True)\n",
    "freq = counts/len(y_test)\n",
    "freq"
   ]
  },
  {
   "cell_type": "code",
   "execution_count": 18,
   "metadata": {
    "pycharm": {
     "is_executing": false
    }
   },
   "outputs": [
    {
     "data": {
      "text/plain": "['alcohol',\n 'malic_acid',\n 'ash',\n 'alcalinity_of_ash',\n 'magnesium',\n 'total_phenols',\n 'flavanoids',\n 'nonflavanoid_phenols',\n 'proanthocyanins',\n 'color_intensity',\n 'hue',\n 'od280/od315_of_diluted_wines',\n 'proline']"
     },
     "metadata": {},
     "output_type": "execute_result",
     "execution_count": 18
    }
   ],
   "source": [
    "wine_bunch.feature_names"
   ]
  },
  {
   "cell_type": "markdown",
   "metadata": {},
   "source": [
    "## Build Dummy"
   ]
  },
  {
   "cell_type": "code",
   "execution_count": 19,
   "metadata": {
    "pycharm": {
     "is_executing": false
    }
   },
   "outputs": [],
   "source": [
    "clf = DummyClassifier(strategy='stratified', random_state=0)\n",
    "clf.fit(X_train, y_train)\n",
    "y_pred = clf.predict(X_test)"
   ]
  },
  {
   "cell_type": "code",
   "execution_count": 37,
   "metadata": {
    "pycharm": {
     "is_executing": false
    }
   },
   "outputs": [
    {
     "name": "stdout",
     "text": [
      "Weighted F1 Score: 0.2094017094017094\n",
      "Confusion matrix, without normalization\n",
      "[[ 0 14  0]\n",
      " [13  2  1]\n",
      " [ 0  0  6]]\n"
     ],
     "output_type": "stream"
    },
    {
     "data": {
      "text/plain": "<matplotlib.axes._subplots.AxesSubplot at 0x7f99aa11cfd0>"
     },
     "metadata": {},
     "output_type": "execute_result",
     "execution_count": 37
    },
    {
     "data": {
      "text/plain": "<Figure size 432x288 with 2 Axes>",
      "image/png": "[encoded data removed]"
     },
     "metadata": {
      "needs_background": "light"
     },
     "output_type": "display_data"
    }
   ],
   "source": [
    "plot_confusion_matrix(y_test, y_pred, classes= wine_bunch.target_names)"
   ]
  },
  {
   "cell_type": "markdown",
   "source": [
    "## Build LogReg"
   ],
   "metadata": {
    "collapsed": false,
    "pycharm": {
     "name": "#%% md\n"
    }
   }
  },
  {
   "cell_type": "code",
   "execution_count": null,
   "outputs": [],
   "source": [
    "pipeline = Pipeline([('n_dist', StandardScaler()),\n",
    "                     ('clf', LogisticRegression(solver='saga'))\n",
    "                    ])\n"
   ],
   "metadata": {
    "collapsed": false,
    "pycharm": {
     "name": "#%%\n"
    }
   }
  },
  {
   "cell_type": "markdown",
   "metadata": {},
   "source": [
    "## Build GMM"
   ]
  },
  {
   "cell_type": "code",
   "execution_count": 38,
   "metadata": {
    "pycharm": {
     "is_executing": false
    }
   },
   "outputs": [],
   "source": [
    "pipeline = Pipeline([('n_dist', StandardScaler()),\n",
    "                     ('clf', GaussianMixture())\n",
    "                    ])\n",
    "\n",
    "parm_space = {'clf__n_components':[2,3,4,5], \n",
    "              'clf__covariance_type':['full', 'tied', 'diag', 'spherical']}"
   ]
  },
  {
   "cell_type": "code",
   "execution_count": 39,
   "metadata": {
    "pycharm": {
     "is_executing": false
    }
   },
   "outputs": [],
   "source": [
    "models = GridSearchCV(pipeline, parm_space, cv=5)"
   ]
  },
  {
   "cell_type": "code",
   "execution_count": 40,
   "metadata": {
    "pycharm": {
     "is_executing": false
    }
   },
   "outputs": [
    {
     "name": "stderr",
     "text": [
      "/home/rob/anaconda3/envs/bayesPG/lib/python3.7/site-packages/sklearn/model_selection/_search.py:814: DeprecationWarning: The default of the `iid` parameter will change from True to False in version 0.22 and will be removed in 0.24. This will change numeric results when test-set sizes are unequal.\n",
      "  DeprecationWarning)\n"
     ],
     "output_type": "stream"
    },
    {
     "data": {
      "text/plain": "GridSearchCV(cv=5, error_score='raise-deprecating',\n             estimator=Pipeline(memory=None,\n                                steps=[('n_dist',\n                                        StandardScaler(copy=True,\n                                                       with_mean=True,\n                                                       with_std=True)),\n                                       ('clf',\n                                        GaussianMixture(covariance_type='full',\n                                                        init_params='kmeans',\n                                                        max_iter=100,\n                                                        means_init=None,\n                                                        n_components=1,\n                                                        n_init=1,\n                                                        precisions_init=None,\n                                                        random_state=None,\n                                                        reg_covar=1e-06,\n                                                        tol=0.001, verbose=0,\n                                                        verbose_interval=10,\n                                                        warm_start=False,\n                                                        weights_init=None))],\n                                verbose=False),\n             iid='warn', n_jobs=None,\n             param_grid={'clf__covariance_type': ['full', 'tied', 'diag',\n                                                  'spherical'],\n                         'clf__n_components': [2, 3, 4, 5]},\n             pre_dispatch='2*n_jobs', refit=True, return_train_score=False,\n             scoring=None, verbose=0)"
     },
     "metadata": {},
     "output_type": "execute_result",
     "execution_count": 40
    }
   ],
   "source": [
    "models.fit(X_train, y_train)"
   ]
  },
  {
   "cell_type": "code",
   "execution_count": 41,
   "metadata": {
    "pycharm": {
     "is_executing": false
    }
   },
   "outputs": [
    {
     "data": {
      "text/plain": "{'clf__covariance_type': 'diag', 'clf__n_components': 3}"
     },
     "metadata": {},
     "output_type": "execute_result",
     "execution_count": 41
    }
   ],
   "source": [
    "models.best_params_"
   ]
  },
  {
   "cell_type": "code",
   "execution_count": 42,
   "metadata": {
    "pycharm": {
     "is_executing": false
    }
   },
   "outputs": [
    {
     "data": {
      "text/plain": "{'mean_fit_time': array([0.01509132, 0.01149426, 0.0117085 , 0.02058139, 0.0188076 ,\n        0.01987658, 0.02105737, 0.01759477, 0.00759573, 0.00570536,\n        0.01096668, 0.01361327, 0.00687952, 0.00895281, 0.01299448,\n        0.01532187]),\n 'std_fit_time': array([0.0043506 , 0.00218438, 0.00266902, 0.00501326, 0.00424429,\n        0.00740761, 0.00547218, 0.00299497, 0.00224698, 0.00033061,\n        0.00159674, 0.0019119 , 0.00230748, 0.00202164, 0.00446809,\n        0.00891   ]),\n 'mean_score_time': array([0.00078206, 0.00068908, 0.00071807, 0.00119023, 0.00109181,\n        0.00117507, 0.00097523, 0.0007247 , 0.00040727, 0.00050983,\n        0.00064201, 0.0005496 , 0.00040059, 0.00062561, 0.00055723,\n        0.00073037]),\n 'std_score_time': array([1.53682138e-04, 1.29726001e-05, 3.40668031e-05, 3.58274619e-04,\n        2.72185258e-04, 4.23502852e-04, 1.67829109e-04, 1.69800942e-04,\n        3.26326672e-05, 1.43305283e-04, 1.04998351e-04, 5.61392276e-05,\n        2.78198420e-05, 1.71152261e-04, 6.77654892e-05, 2.73976938e-04]),\n 'param_clf__covariance_type': masked_array(data=['full', 'full', 'full', 'full', 'tied', 'tied', 'tied',\n                    'tied', 'diag', 'diag', 'diag', 'diag', 'spherical',\n                    'spherical', 'spherical', 'spherical'],\n              mask=[False, False, False, False, False, False, False, False,\n                    False, False, False, False, False, False, False, False],\n        fill_value='?',\n             dtype=object),\n 'param_clf__n_components': masked_array(data=[2, 3, 4, 5, 2, 3, 4, 5, 2, 3, 4, 5, 2, 3, 4, 5],\n              mask=[False, False, False, False, False, False, False, False,\n                    False, False, False, False, False, False, False, False],\n        fill_value='?',\n             dtype=object),\n 'params': [{'clf__covariance_type': 'full', 'clf__n_components': 2},\n  {'clf__covariance_type': 'full', 'clf__n_components': 3},\n  {'clf__covariance_type': 'full', 'clf__n_components': 4},\n  {'clf__covariance_type': 'full', 'clf__n_components': 5},\n  {'clf__covariance_type': 'tied', 'clf__n_components': 2},\n  {'clf__covariance_type': 'tied', 'clf__n_components': 3},\n  {'clf__covariance_type': 'tied', 'clf__n_components': 4},\n  {'clf__covariance_type': 'tied', 'clf__n_components': 5},\n  {'clf__covariance_type': 'diag', 'clf__n_components': 2},\n  {'clf__covariance_type': 'diag', 'clf__n_components': 3},\n  {'clf__covariance_type': 'diag', 'clf__n_components': 4},\n  {'clf__covariance_type': 'diag', 'clf__n_components': 5},\n  {'clf__covariance_type': 'spherical', 'clf__n_components': 2},\n  {'clf__covariance_type': 'spherical', 'clf__n_components': 3},\n  {'clf__covariance_type': 'spherical', 'clf__n_components': 4},\n  {'clf__covariance_type': 'spherical', 'clf__n_components': 5}],\n 'split0_test_score': array([-13.6377509 , -14.09023671, -13.62278207, -20.47074997,\n        -14.35819774, -13.9373974 , -13.99180716, -13.88544821,\n        -15.50276946, -13.89534612, -13.67736027, -13.95580602,\n        -16.48929154, -14.82124105, -14.63082508, -14.81299247]),\n 'split1_test_score': array([-20.69002215, -20.58144509, -26.33277227, -32.04017316,\n        -20.4405528 , -20.34728551, -20.14189352, -20.80872607,\n        -19.86408656, -19.02368965, -19.09990524, -18.91220368,\n        -20.84604348, -20.84331149, -20.81785634, -20.93338003]),\n 'split2_test_score': array([-15.47642675, -16.53427593, -18.17962762, -22.24246903,\n        -15.05073415, -15.05326758, -14.78628624, -14.93333827,\n        -17.12544777, -15.22190305, -15.1823806 , -15.23961106,\n        -17.88516425, -15.69884571, -15.66185741, -15.9718117 ]),\n 'split3_test_score': array([-14.38739315, -14.00958713, -14.98773466, -15.32932952,\n        -14.01817393, -14.16877613, -13.89680408, -14.00372733,\n        -14.91288599, -13.64431977, -13.69647598, -13.69186241,\n        -15.43899155, -14.39620915, -14.62710059, -14.68918284]),\n 'split4_test_score': array([-15.21289681, -15.08269086, -16.41438652, -28.48552372,\n        -14.81441603, -14.70505782, -14.94377957, -14.89067528,\n        -15.90930576, -14.36464326, -15.18867984, -15.45102807,\n        -16.47709472, -15.09659873, -15.16463779, -15.03214758]),\n 'mean_test_score': array([-15.89896821, -16.07762171, -17.93662002, -23.74944925,\n        -15.75983691, -15.66348343, -15.57344843, -15.72751971,\n        -16.67727275, -15.2472978 , -15.38332197, -15.46396003,\n        -17.44478683, -16.19463609, -16.20220031, -16.31023086]),\n 'std_test_score': array([2.51209243, 2.45536901, 4.51449416, 5.92315092, 2.39773684,\n        2.40496329, 2.35114435, 2.61039968, 1.76791718, 1.98649969,\n        1.9979559 , 1.87670242, 1.88818439, 2.39218041, 2.36942971,\n        2.38446364]),\n 'rank_test_score': array([ 8,  9, 15, 16,  7,  5,  4,  6, 13,  1,  2,  3, 14, 10, 11, 12],\n       dtype=int32)}"
     },
     "metadata": {},
     "output_type": "execute_result",
     "execution_count": 42
    }
   ],
   "source": [
    "models.cv_results_"
   ]
  },
  {
   "cell_type": "code",
   "execution_count": 43,
   "metadata": {
    "pycharm": {
     "is_executing": false
    }
   },
   "outputs": [],
   "source": [
    "best_estimator = models.best_estimator_"
   ]
  },
  {
   "cell_type": "code",
   "execution_count": 44,
   "metadata": {
    "pycharm": {
     "is_executing": false
    }
   },
   "outputs": [],
   "source": [
    "y_pred = best_estimator.predict(X_test)"
   ]
  },
  {
   "cell_type": "code",
   "execution_count": 45,
   "metadata": {
    "pycharm": {
     "is_executing": false
    }
   },
   "outputs": [
    {
     "name": "stdout",
     "text": [
      "Weighted F1 Score: 0.03864734299516908\n",
      "Confusion matrix, without normalization\n",
      "[[ 0  0 14]\n",
      " [13  1  2]\n",
      " [ 0  6  0]]\n"
     ],
     "output_type": "stream"
    },
    {
     "data": {
      "text/plain": "<matplotlib.axes._subplots.AxesSubplot at 0x7f99aa056850>"
     },
     "metadata": {},
     "output_type": "execute_result",
     "execution_count": 45
    },
    {
     "data": {
      "text/plain": "<Figure size 432x288 with 2 Axes>",
      "image/png": "[encoded data removed]"
     },
     "metadata": {
      "needs_background": "light"
     },
     "output_type": "display_data"
    }
   ],
   "source": [
    "plot_confusion_matrix(y_test, y_pred, classes= wine_bunch.target_names)"
   ]
  },
  {
   "cell_type": "code",
   "execution_count": 45,
   "metadata": {
    "pycharm": {
     "is_executing": false
    }
   },
   "outputs": [],
   "source": []
  },
  {
   "cell_type": "code",
   "execution_count": 45,
   "metadata": {
    "pycharm": {
     "is_executing": false
    }
   },
   "outputs": [],
   "source": []
  }
 ],
 "metadata": {
  "kernelspec": {
   "display_name": "Python 3",
   "language": "python",
   "name": "python3"
  },
  "language_info": {
   "codemirror_mode": {
    "name": "ipython",
    "version": 3
   },
   "file_extension": ".py",
   "mimetype": "text/x-python",
   "name": "python",
   "nbconvert_exporter": "python",
   "pygments_lexer": "ipython3",
   "version": "3.7.4"
  },
  "pycharm": {
   "stem_cell": {
    "cell_type": "raw",
    "source": [],
    "metadata": {
     "collapsed": false
    }
   }
  }
 },
 "nbformat": 4,
 "nbformat_minor": 2
}