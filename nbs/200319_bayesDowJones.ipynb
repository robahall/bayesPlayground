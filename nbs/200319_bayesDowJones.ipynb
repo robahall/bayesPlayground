{
 "cells": [
  {
   "cell_type": "code",
   "execution_count": 8,
   "outputs": [
    {
     "name": "stdout",
     "text": [
      "The autoreload extension is already loaded. To reload it, use:\n",
      "  %reload_ext autoreload\n"
     ],
     "output_type": "stream"
    }
   ],
   "source": [
    "%load_ext autoreload\n",
    "%autoreload 2"
   ],
   "metadata": {
    "collapsed": false,
    "pycharm": {
     "name": "#%%\n",
     "is_executing": false
    }
   }
  },
  {
   "cell_type": "code",
   "execution_count": 10,
   "metadata": {
    "collapsed": true,
    "pycharm": {
     "is_executing": false
    }
   },
   "outputs": [],
   "source": [
    "import numpy as np\n",
    "import pandas as pd\n",
    "from pathlib import Path\n",
    "import pymc3 as pm\n",
    "import matplotlib.pyplot as plt\n",
    "%matplotlib inline"
   ]
  },
  {
   "cell_type": "code",
   "execution_count": 50,
   "outputs": [
    {
     "data": {
      "text/plain": "   quarter stock       date    open    high     low   close     volume  \\\n0        1    AA 2011-01-07  $15.82  $16.72  $15.78  $16.42  239655616   \n1        1    AA 2011-01-14  $16.71  $16.71  $15.64  $15.97  242963398   \n2        1    AA 2011-01-21  $16.19  $16.38  $15.60  $15.79  138428495   \n3        1    AA 2011-01-28  $15.87  $16.63  $15.82  $16.13  151379173   \n4        1    AA 2011-02-04  $16.18  $17.39  $16.18  $17.14  154387761   \n\n   percent_change_price  percent_change_volume_over_last_wk  \\\n0               3.79267                                 NaN   \n1              -4.42849                            1.380223   \n2              -2.47066                          -43.024959   \n3               1.63831                            9.355500   \n4               5.93325                            1.987452   \n\n   previous_weeks_volume next_weeks_open next_weeks_close  \\\n0                    NaN          $16.71           $15.97   \n1            239655616.0          $16.19           $15.79   \n2            242963398.0          $15.87           $16.13   \n3            138428495.0          $16.18           $17.14   \n4            151379173.0          $17.33           $17.37   \n\n   percent_change_next_weeks_price  days_to_next_dividend  \\\n0                        -4.428490                     26   \n1                        -2.470660                     19   \n2                         1.638310                     12   \n3                         5.933250                      5   \n4                         0.230814                     97   \n\n   percent_return_next_dividend  \n0                      0.182704  \n1                      0.187852  \n2                      0.189994  \n3                      0.185989  \n4                      0.175029  ",
      "text/html": "<div>\n<style scoped>\n    .dataframe tbody tr th:only-of-type {\n        vertical-align: middle;\n    }\n\n    .dataframe tbody tr th {\n        vertical-align: top;\n    }\n\n    .dataframe thead th {\n        text-align: right;\n    }\n</style>\n<table border=\"1\" class=\"dataframe\">\n  <thead>\n    <tr style=\"text-align: right;\">\n      <th></th>\n      <th>quarter</th>\n      <th>stock</th>\n      <th>date</th>\n      <th>open</th>\n      <th>high</th>\n      <th>low</th>\n      <th>close</th>\n      <th>volume</th>\n      <th>percent_change_price</th>\n      <th>percent_change_volume_over_last_wk</th>\n      <th>previous_weeks_volume</th>\n      <th>next_weeks_open</th>\n      <th>next_weeks_close</th>\n      <th>percent_change_next_weeks_price</th>\n      <th>days_to_next_dividend</th>\n      <th>percent_return_next_dividend</th>\n    </tr>\n  </thead>\n  <tbody>\n    <tr>\n      <th>0</th>\n      <td>1</td>\n      <td>AA</td>\n      <td>2011-01-07</td>\n      <td>$15.82</td>\n      <td>$16.72</td>\n      <td>$15.78</td>\n      <td>$16.42</td>\n      <td>239655616</td>\n      <td>3.79267</td>\n      <td>NaN</td>\n      <td>NaN</td>\n      <td>$16.71</td>\n      <td>$15.97</td>\n      <td>-4.428490</td>\n      <td>26</td>\n      <td>0.182704</td>\n    </tr>\n    <tr>\n      <th>1</th>\n      <td>1</td>\n      <td>AA</td>\n      <td>2011-01-14</td>\n      <td>$16.71</td>\n      <td>$16.71</td>\n      <td>$15.64</td>\n      <td>$15.97</td>\n      <td>242963398</td>\n      <td>-4.42849</td>\n      <td>1.380223</td>\n      <td>239655616.0</td>\n      <td>$16.19</td>\n      <td>$15.79</td>\n      <td>-2.470660</td>\n      <td>19</td>\n      <td>0.187852</td>\n    </tr>\n    <tr>\n      <th>2</th>\n      <td>1</td>\n      <td>AA</td>\n      <td>2011-01-21</td>\n      <td>$16.19</td>\n      <td>$16.38</td>\n      <td>$15.60</td>\n      <td>$15.79</td>\n      <td>138428495</td>\n      <td>-2.47066</td>\n      <td>-43.024959</td>\n      <td>242963398.0</td>\n      <td>$15.87</td>\n      <td>$16.13</td>\n      <td>1.638310</td>\n      <td>12</td>\n      <td>0.189994</td>\n    </tr>\n    <tr>\n      <th>3</th>\n      <td>1</td>\n      <td>AA</td>\n      <td>2011-01-28</td>\n      <td>$15.87</td>\n      <td>$16.63</td>\n      <td>$15.82</td>\n      <td>$16.13</td>\n      <td>151379173</td>\n      <td>1.63831</td>\n      <td>9.355500</td>\n      <td>138428495.0</td>\n      <td>$16.18</td>\n      <td>$17.14</td>\n      <td>5.933250</td>\n      <td>5</td>\n      <td>0.185989</td>\n    </tr>\n    <tr>\n      <th>4</th>\n      <td>1</td>\n      <td>AA</td>\n      <td>2011-02-04</td>\n      <td>$16.18</td>\n      <td>$17.39</td>\n      <td>$16.18</td>\n      <td>$17.14</td>\n      <td>154387761</td>\n      <td>5.93325</td>\n      <td>1.987452</td>\n      <td>151379173.0</td>\n      <td>$17.33</td>\n      <td>$17.37</td>\n      <td>0.230814</td>\n      <td>97</td>\n      <td>0.175029</td>\n    </tr>\n  </tbody>\n</table>\n</div>"
     },
     "metadata": {},
     "output_type": "execute_result",
     "execution_count": 50
    }
   ],
   "source": [
    "dowStocks = pd.read_csv(Path('../data/external/dow_jones_index.data'))\n",
    "dowStocks['date'] = pd.to_datetime(dowStocks['date'])\n",
    "dowStocks.head()"
   ],
   "metadata": {
    "collapsed": false,
    "pycharm": {
     "name": "#%%\n",
     "is_executing": false
    }
   }
  },
  {
   "cell_type": "code",
   "execution_count": 51,
   "outputs": [
    {
     "data": {
      "text/plain": "quarter                                        int64\nstock                                         object\ndate                                  datetime64[ns]\nopen                                          object\nhigh                                          object\nlow                                           object\nclose                                         object\nvolume                                         int64\npercent_change_price                         float64\npercent_change_volume_over_last_wk           float64\nprevious_weeks_volume                        float64\nnext_weeks_open                               object\nnext_weeks_close                              object\npercent_change_next_weeks_price              float64\ndays_to_next_dividend                          int64\npercent_return_next_dividend                 float64\ndtype: object"
     },
     "metadata": {},
     "output_type": "execute_result",
     "execution_count": 51
    }
   ],
   "source": [
    "dowStocks.dtypes"
   ],
   "metadata": {
    "collapsed": false,
    "pycharm": {
     "name": "#%%\n",
     "is_executing": false
    }
   }
  },
  {
   "cell_type": "code",
   "execution_count": 56,
   "outputs": [],
   "source": [
    "def stripDollars(df):\n",
    "    df[['open', 'high', 'low', 'close']] = df[['open', 'high', 'low', 'close']].str.strip('$').astype('float64')\n",
    "    return df\n",
    "## TODO: Fix this. "
   ],
   "metadata": {
    "collapsed": false,
    "pycharm": {
     "name": "#%%\n",
     "is_executing": false
    }
   }
  },
  {
   "cell_type": "code",
   "execution_count": 55,
   "outputs": [
    {
     "traceback": [
      "\u001b[0;31m---------------------------------------------------------------------------\u001b[0m",
      "\u001b[0;31mAttributeError\u001b[0m                            Traceback (most recent call last)",
      "\u001b[0;32m<ipython-input-55-4a7cc44f513d>\u001b[0m in \u001b[0;36m<module>\u001b[0;34m\u001b[0m\n\u001b[0;32m----> 1\u001b[0;31m \u001b[0mdowStocks\u001b[0m \u001b[0;34m=\u001b[0m \u001b[0mstripDollars\u001b[0m\u001b[0;34m(\u001b[0m\u001b[0mdowStocks\u001b[0m\u001b[0;34m)\u001b[0m\u001b[0;34m\u001b[0m\u001b[0;34m\u001b[0m\u001b[0m\n\u001b[0m\u001b[1;32m      2\u001b[0m \u001b[0;34m\u001b[0m\u001b[0m\n",
      "\u001b[0;32m<ipython-input-54-9ad05fba8d08>\u001b[0m in \u001b[0;36mstripDollars\u001b[0;34m(df)\u001b[0m\n\u001b[1;32m      1\u001b[0m \u001b[0;32mdef\u001b[0m \u001b[0mstripDollars\u001b[0m\u001b[0;34m(\u001b[0m\u001b[0mdf\u001b[0m\u001b[0;34m)\u001b[0m\u001b[0;34m:\u001b[0m\u001b[0;34m\u001b[0m\u001b[0;34m\u001b[0m\u001b[0m\n\u001b[0;32m----> 2\u001b[0;31m     \u001b[0mdf\u001b[0m\u001b[0;34m[\u001b[0m\u001b[0;34m[\u001b[0m\u001b[0;34m'open'\u001b[0m\u001b[0;34m,\u001b[0m \u001b[0;34m'high'\u001b[0m\u001b[0;34m,\u001b[0m \u001b[0;34m'low'\u001b[0m\u001b[0;34m,\u001b[0m \u001b[0;34m'close'\u001b[0m\u001b[0;34m]\u001b[0m\u001b[0;34m]\u001b[0m \u001b[0;34m=\u001b[0m \u001b[0mdf\u001b[0m\u001b[0;34m[\u001b[0m\u001b[0;34m[\u001b[0m\u001b[0;34m'open'\u001b[0m\u001b[0;34m,\u001b[0m \u001b[0;34m'high'\u001b[0m\u001b[0;34m,\u001b[0m \u001b[0;34m'low'\u001b[0m\u001b[0;34m,\u001b[0m \u001b[0;34m'close'\u001b[0m\u001b[0;34m]\u001b[0m\u001b[0;34m]\u001b[0m\u001b[0;34m.\u001b[0m\u001b[0mstrip\u001b[0m\u001b[0;34m(\u001b[0m\u001b[0;34m'$'\u001b[0m\u001b[0;34m)\u001b[0m\u001b[0;34m.\u001b[0m\u001b[0mastype\u001b[0m\u001b[0;34m(\u001b[0m\u001b[0;34m'float64'\u001b[0m\u001b[0;34m)\u001b[0m\u001b[0;34m\u001b[0m\u001b[0;34m\u001b[0m\u001b[0m\n\u001b[0m\u001b[1;32m      3\u001b[0m     \u001b[0;32mreturn\u001b[0m \u001b[0mdf\u001b[0m\u001b[0;34m\u001b[0m\u001b[0;34m\u001b[0m\u001b[0m\n\u001b[1;32m      4\u001b[0m \u001b[0;34m\u001b[0m\u001b[0m\n",
      "\u001b[0;32m~/anaconda3/envs/bayesPlayground/lib/python3.7/site-packages/pandas/core/generic.py\u001b[0m in \u001b[0;36m__getattr__\u001b[0;34m(self, name)\u001b[0m\n\u001b[1;32m   5272\u001b[0m             \u001b[0;32mif\u001b[0m \u001b[0mself\u001b[0m\u001b[0;34m.\u001b[0m\u001b[0m_info_axis\u001b[0m\u001b[0;34m.\u001b[0m\u001b[0m_can_hold_identifiers_and_holds_name\u001b[0m\u001b[0;34m(\u001b[0m\u001b[0mname\u001b[0m\u001b[0;34m)\u001b[0m\u001b[0;34m:\u001b[0m\u001b[0;34m\u001b[0m\u001b[0;34m\u001b[0m\u001b[0m\n\u001b[1;32m   5273\u001b[0m                 \u001b[0;32mreturn\u001b[0m \u001b[0mself\u001b[0m\u001b[0;34m[\u001b[0m\u001b[0mname\u001b[0m\u001b[0;34m]\u001b[0m\u001b[0;34m\u001b[0m\u001b[0;34m\u001b[0m\u001b[0m\n\u001b[0;32m-> 5274\u001b[0;31m             \u001b[0;32mreturn\u001b[0m \u001b[0mobject\u001b[0m\u001b[0;34m.\u001b[0m\u001b[0m__getattribute__\u001b[0m\u001b[0;34m(\u001b[0m\u001b[0mself\u001b[0m\u001b[0;34m,\u001b[0m \u001b[0mname\u001b[0m\u001b[0;34m)\u001b[0m\u001b[0;34m\u001b[0m\u001b[0;34m\u001b[0m\u001b[0m\n\u001b[0m\u001b[1;32m   5275\u001b[0m \u001b[0;34m\u001b[0m\u001b[0m\n\u001b[1;32m   5276\u001b[0m     \u001b[0;32mdef\u001b[0m \u001b[0m__setattr__\u001b[0m\u001b[0;34m(\u001b[0m\u001b[0mself\u001b[0m\u001b[0;34m,\u001b[0m \u001b[0mname\u001b[0m\u001b[0;34m:\u001b[0m \u001b[0mstr\u001b[0m\u001b[0;34m,\u001b[0m \u001b[0mvalue\u001b[0m\u001b[0;34m)\u001b[0m \u001b[0;34m->\u001b[0m \u001b[0;32mNone\u001b[0m\u001b[0;34m:\u001b[0m\u001b[0;34m\u001b[0m\u001b[0;34m\u001b[0m\u001b[0m\n",
      "\u001b[0;31mAttributeError\u001b[0m: 'DataFrame' object has no attribute 'strip'"
     ],
     "ename": "AttributeError",
     "evalue": "'DataFrame' object has no attribute 'strip'",
     "output_type": "error"
    }
   ],
   "source": [
    "dowStocks = stripDollars(dowStocks)"
   ],
   "metadata": {
    "collapsed": false,
    "pycharm": {
     "name": "#%%\n",
     "is_executing": false
    }
   }
  },
  {
   "cell_type": "code",
   "execution_count": 26,
   "outputs": [
    {
     "name": "stdout",
     "text": [
      "Stocks in DOWJONES\n",
      "AA\n",
      "AXP\n",
      "BA\n",
      "BAC\n",
      "CAT\n",
      "CSCO\n",
      "CVX\n",
      "DD\n",
      "DIS\n",
      "GE\n",
      "HD\n",
      "HPQ\n",
      "IBM\n",
      "INTC\n",
      "JNJ\n",
      "JPM\n",
      "KRFT\n",
      "KO\n",
      "MCD\n",
      "MMM\n",
      "MRK\n",
      "MSFT\n",
      "PFE\n",
      "PG\n",
      "T\n",
      "TRV\n",
      "UTX\n",
      "VZ\n",
      "WMT\n",
      "XOM\n"
     ],
     "output_type": "stream"
    }
   ],
   "source": [
    "print('Stocks in DOWJONES')\n",
    "for stock in dowStocks['stock'].unique():\n",
    "    print(f'{stock}')\n"
   ],
   "metadata": {
    "collapsed": false,
    "pycharm": {
     "name": "#%%\n",
     "is_executing": false
    }
   }
  },
  {
   "cell_type": "code",
   "execution_count": 31,
   "outputs": [
    {
     "name": "stdout",
     "text": [
      "Dates in dataset:\n",
      "Start date: 2011-01-07 00:00:00\n",
      "End date: 2011-06-24 00:00:00\n"
     ],
     "output_type": "stream"
    }
   ],
   "source": [
    "print('Dates in dataset:')\n",
    "print(f'Start date: {dowStocks[\"date\"].min()}')\n",
    "print(f'End date: {dowStocks[\"date\"].max()}')"
   ],
   "metadata": {
    "collapsed": false,
    "pycharm": {
     "name": "#%%\n",
     "is_executing": false
    }
   }
  },
  {
   "cell_type": "markdown",
   "source": [
    "Note: Original dataset recommends using Q1 as train and Q2 as test\n"
   ],
   "metadata": {
    "collapsed": false,
    "pycharm": {
     "name": "#%% md\n",
     "is_executing": false
    }
   }
  },
  {
   "cell_type": "code",
   "execution_count": 42,
   "outputs": [
    {
     "data": {
      "text/plain": "             close\ndate              \n2011-01-07  $16.42\n2011-01-14  $15.97\n2011-01-21  $15.79\n2011-01-28  $16.13\n2011-02-04  $17.14\n2011-02-11  $17.37\n2011-02-18  $17.28\n2011-02-25  $16.68\n2011-03-04  $16.58\n2011-03-11  $16.03\n2011-03-18  $16.11\n2011-03-25  $17.09\n2011-04-01  $17.47\n2011-04-08  $17.92\n2011-04-15  $16.52\n2011-04-21  $16.97\n2011-04-29  $17.00\n2011-05-06  $17.15\n2011-05-13  $17.10\n2011-05-20  $16.26\n2011-05-27  $16.48\n2011-06-03  $15.92\n2011-06-10  $15.28\n2011-06-17  $14.72\n2011-06-24  $15.23",
      "text/html": "<div>\n<style scoped>\n    .dataframe tbody tr th:only-of-type {\n        vertical-align: middle;\n    }\n\n    .dataframe tbody tr th {\n        vertical-align: top;\n    }\n\n    .dataframe thead th {\n        text-align: right;\n    }\n</style>\n<table border=\"1\" class=\"dataframe\">\n  <thead>\n    <tr style=\"text-align: right;\">\n      <th></th>\n      <th>close</th>\n    </tr>\n    <tr>\n      <th>date</th>\n      <th></th>\n    </tr>\n  </thead>\n  <tbody>\n    <tr>\n      <th>2011-01-07</th>\n      <td>$16.42</td>\n    </tr>\n    <tr>\n      <th>2011-01-14</th>\n      <td>$15.97</td>\n    </tr>\n    <tr>\n      <th>2011-01-21</th>\n      <td>$15.79</td>\n    </tr>\n    <tr>\n      <th>2011-01-28</th>\n      <td>$16.13</td>\n    </tr>\n    <tr>\n      <th>2011-02-04</th>\n      <td>$17.14</td>\n    </tr>\n    <tr>\n      <th>2011-02-11</th>\n      <td>$17.37</td>\n    </tr>\n    <tr>\n      <th>2011-02-18</th>\n      <td>$17.28</td>\n    </tr>\n    <tr>\n      <th>2011-02-25</th>\n      <td>$16.68</td>\n    </tr>\n    <tr>\n      <th>2011-03-04</th>\n      <td>$16.58</td>\n    </tr>\n    <tr>\n      <th>2011-03-11</th>\n      <td>$16.03</td>\n    </tr>\n    <tr>\n      <th>2011-03-18</th>\n      <td>$16.11</td>\n    </tr>\n    <tr>\n      <th>2011-03-25</th>\n      <td>$17.09</td>\n    </tr>\n    <tr>\n      <th>2011-04-01</th>\n      <td>$17.47</td>\n    </tr>\n    <tr>\n      <th>2011-04-08</th>\n      <td>$17.92</td>\n    </tr>\n    <tr>\n      <th>2011-04-15</th>\n      <td>$16.52</td>\n    </tr>\n    <tr>\n      <th>2011-04-21</th>\n      <td>$16.97</td>\n    </tr>\n    <tr>\n      <th>2011-04-29</th>\n      <td>$17.00</td>\n    </tr>\n    <tr>\n      <th>2011-05-06</th>\n      <td>$17.15</td>\n    </tr>\n    <tr>\n      <th>2011-05-13</th>\n      <td>$17.10</td>\n    </tr>\n    <tr>\n      <th>2011-05-20</th>\n      <td>$16.26</td>\n    </tr>\n    <tr>\n      <th>2011-05-27</th>\n      <td>$16.48</td>\n    </tr>\n    <tr>\n      <th>2011-06-03</th>\n      <td>$15.92</td>\n    </tr>\n    <tr>\n      <th>2011-06-10</th>\n      <td>$15.28</td>\n    </tr>\n    <tr>\n      <th>2011-06-17</th>\n      <td>$14.72</td>\n    </tr>\n    <tr>\n      <th>2011-06-24</th>\n      <td>$15.23</td>\n    </tr>\n  </tbody>\n</table>\n</div>"
     },
     "metadata": {},
     "output_type": "execute_result",
     "execution_count": 42
    }
   ],
   "source": [
    "dowStocks[dowStocks['stock'] == 'AA'][['date', 'close']].set_index(['date'])"
   ],
   "metadata": {
    "collapsed": false,
    "pycharm": {
     "name": "#%%\n",
     "is_executing": false
    }
   }
  },
  {
   "cell_type": "markdown",
   "source": [
    "\n"
   ],
   "metadata": {
    "collapsed": false,
    "pycharm": {
     "name": "#%% md\n"
    }
   }
  }
 ],
 "metadata": {
  "kernelspec": {
   "display_name": "Python 3",
   "language": "python",
   "name": "python3"
  },
  "language_info": {
   "codemirror_mode": {
    "name": "ipython",
    "version": 2
   },
   "file_extension": ".py",
   "mimetype": "text/x-python",
   "name": "python",
   "nbconvert_exporter": "python",
   "pygments_lexer": "ipython2",
   "version": "2.7.6"
  },
  "pycharm": {
   "stem_cell": {
    "cell_type": "raw",
    "source": [],
    "metadata": {
     "collapsed": false
    }
   }
  }
 },
 "nbformat": 4,
 "nbformat_minor": 0
}