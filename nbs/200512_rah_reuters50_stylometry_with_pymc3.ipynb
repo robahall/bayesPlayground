{
 "cells": [
  {
   "cell_type": "code",
   "execution_count": 2,
   "metadata": {},
   "outputs": [],
   "source": [
    "%load_ext autoreload\n",
    "%autoreload 2"
   ]
  },
  {
   "cell_type": "code",
   "execution_count": 6,
   "metadata": {},
   "outputs": [],
   "source": [
    "import warnings\n",
    "warnings.filterwarnings(\"ignore\")\n",
    "\n",
    "import numpy as np\n",
    "from scipy import stats\n",
    "\n",
    "from sklearn.datasets import load_files\n",
    "from sklearn.pipeline import Pipeline\n",
    "from sklearn.preprocessing import StandardScaler\n",
    "from sklearn.model_selection import train_test_split\n",
    "from sklearn.linear_model import LogisticRegression\n",
    "\n",
    "import matplotlib.pyplot as plt\n",
    "import seaborn as sns\n",
    "%matplotlib inline\n",
    "\n",
    "import pymc3 as pm"
   ]
  },
  {
   "cell_type": "code",
   "execution_count": 11,
   "metadata": {},
   "outputs": [],
   "source": [
    "train_databunch = load_files(\"/home/rob/PycharmProjects/bayesPlayground/data/external/reuters50/C50train\")\n",
    "test_databunch = load_files(\"/home/rob/PycharmProjects/bayesPlayground/data/external/reuters50/C50test\")"
   ]
  },
  {
   "cell_type": "code",
   "execution_count": 13,
   "metadata": {},
   "outputs": [],
   "source": [
    "## Stick with how the author has set it up\n",
    "X_train, y_train, authors = train_databunch.data, train_databunch.target, train_databunch.target_names\n",
    "X_test, y_test, authors = test_databunch.data, test_databunch.target, test_databunch.target_names"
   ]
  },
  {
   "cell_type": "code",
   "execution_count": 15,
   "metadata": {},
   "outputs": [
    {
     "data": {
      "text/plain": [
       "(b'The Czech Republic and Spain played to a scoreless draw in their World Cup group six qualifier on Wednesday, in a lacklustre match that failed to live up to its marquee billing.\\r\\nThe Czechs were facing their first big test since they reached the Euro 96 final, while Real Madrid\\'s teenage striker Raul Gonzalez was looking to spark a depleted Spanish attack in his first cap.\\r\\nBoth sides opened their World Cup campaigns last month with high-scoring victories over the two weakest teams in the group, Spain winning 6-2 in the Faroe Islands and the Czechs thrashing Malta 6-0.\\r\\nBut Yugoslavia have already collected three wins and Slovakia two against the same two hapless victims and neither team could afford to give ground in Prague.\\r\\nLike two heavyweights feeling each other out in the early rounds, both teams started tentatively, waiting to pounce on the other\\'s mistakes.\\r\\nThe Spaniard\\'s were the first to flinch when Kaiserslautern striker Pavel Kuka\\'s cross found an unmarked Karel Poborsky just outside the crease. But the Manchester United midfielder failed to control the ball, wasting what would turn out be one of the game\\'s few good scoring chances.\\r\\nNext it was the Czechs turn to falter. Newcastle United goalkeeper Pavel Srnicek, making his first cap in over a year, tried to clear the ball, but hit attacker Alfonso Perez and watched helplessly as it rolled just wide of the net.\\r\\nThe Czechs picked up their play in the second half, putting Spain on its heels for the rest of the game.\\r\\nBut veteran Valencia goalkeeper Andoni Zubizarreta held his ground on Pavel Kuka\\'s dangerous turnaround blast from just outside the penalty spot, and then robbed Jan Suchoparek in the dying minutes of the game, stopping the midfielder\\'s drive from three metres away to keep the game scoreless.\\r\\n\"I don\\'t think we lost points tonight because they are such an excellent team. They played strongly in the backfield and its too bad we missed out on the two great chances we had,\" said Liverpool sensation Patrik Berger.\\r\\nAdded Spanish coach :\"Raul played very well and I\\'m pleased with our team. Both teams could have one this match, and I\\'m content with the result though we would have liked to have taken three points.\"\\r\\nTeams:\\r\\nCzech Republic - 1-Pavel Srnicek, 2-Radoslav Latal, 3-Jan Suchoparek, 4-Pavel Nedved (15-Martin Frydek, 86th), 5-Miroslav Kadlec, 6-Michal Hornak, 7-Jiri Nemec, 8-Karel Poborsky (17-Vladimir Smicer, 58th), 9-Pavel Kuka, 10-Patrik Berger, 11-Radek Bejbl\\r\\nSpain - 1-Andoni Zubizarreta, 2-Abelardo Fernandez, 3-Sergi Barjuan, 4-Rafael Alkorta, 5-Miguel Angel Nadal, 6-Fernando Hierro, 7-Raul Gonzalez, 8-Luis Enrique Martinez, 9-Guillermo Amor (18-Ismael Urzaiz, 76th), 10-Julen Guerrero (14-Josep Guardiola, 52nd), 11-Alfonso Perez (15-Roberto Rios, 73rd)\\r\\n',\n",
       " 1)"
      ]
     },
     "execution_count": 15,
     "metadata": {},
     "output_type": "execute_result"
    }
   ],
   "source": [
    "X_train[0], y_train[0]"
   ]
  },
  {
   "cell_type": "code",
   "execution_count": null,
   "metadata": {},
   "outputs": [],
   "source": []
  }
 ],
 "metadata": {
  "kernelspec": {
   "display_name": "Python 3",
   "language": "python",
   "name": "python3"
  },
  "language_info": {
   "codemirror_mode": {
    "name": "ipython",
    "version": 3
   },
   "file_extension": ".py",
   "mimetype": "text/x-python",
   "name": "python",
   "nbconvert_exporter": "python",
   "pygments_lexer": "ipython3",
   "version": "3.7.6"
  }
 },
 "nbformat": 4,
 "nbformat_minor": 4
}
